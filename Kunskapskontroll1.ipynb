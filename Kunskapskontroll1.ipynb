{
 "cells": [
  {
   "cell_type": "markdown",
   "metadata": {
    "notebookRunGroups": {
     "groupValue": "2"
    }
   },
   "source": [
    "_______________________________________\n",
    "### Fördjupad Pythonprogrammering - Kunskapskontroll 1 <br> Silvia Werecki <br> 2024-11-12\n",
    "______________________________________________________"
   ]
  },
  {
   "cell_type": "markdown",
   "metadata": {
    "notebookRunGroups": {
     "groupValue": "1"
    }
   },
   "source": [
    "### Fråga 1 "
   ]
  },
  {
   "cell_type": "markdown",
   "metadata": {},
   "source": [
    "I Python så kan man skapa grafiska användargränssnitt (GUI = Graphical User Interface). <br> Ett sådant exempel där biblioteket ”tkinter” används kan du se i mappen ”csv_viewer”. <br> Granska koden, förstå vad som sker och skriv kort ned vad programmet gör. <br><br>\n",
    "\n",
    "- Graphical User Interface (GUI) <br><br>\n",
    "Är ett grafisk användargränssnitt med mus “Pek och Click” användargränssnitt. <br> Det är ett visuellt och interaktivt användargränssnitt för att kommunicera med operativsystem och elektroniska enheter. <br> Kommunikationen sker med en mus eller pekar funktion som förflyttas över skärmen där alternativa valmöjligheterna visas genom grafiska symboler som ikoner, knappar och menyer med pekfunktioner. <br>\n",
    "Exempel på GUI är Apples personaldator Macintosh 128K (1984) och Safari, Microsoft Words och Exel samt Google Chrome. <br><br>\n",
    "\n",
    "\n",
    "- Koden i 'csv_viewer_without_data_and_filter.py' <br><br>\n",
    "Koden skapar en Python-applikation med ett grafiskt användargränssnitt (GUI) som är specifikt utformad för att hantera CSV-data. <br>\n",
    "Koden hämtar de verktyg som behövs för att hantera data (pandas) och för att skapa det grafiska gränssnittet (tkinter). <br>\n",
    "Datan i 'test_data.csv' läses in och omvandlas till en formaterad tabell (DataFrame). <br>\n",
    "Ett huvudfönster skapas och fylls med olika element så att användaren kan söka efter specifik data, sortera tabellen och exportera resultaten till en ny CSV-fil. <br>\n",
    "Programmet gör det enkelt för användare att utforska och analysera data från CSV-filen genom ett intuitivt grafiskt gränssnitt. <br><br>\n",
    "_______________________________________"
   ]
  },
  {
   "cell_type": "markdown",
   "metadata": {},
   "source": [
    "### Fråga 2"
   ]
  },
  {
   "cell_type": "markdown",
   "metadata": {},
   "source": [
    " ## Kapitel 6 - Klasser"
   ]
  },
  {
   "cell_type": "markdown",
   "metadata": {},
   "source": [
    "### Uppgift 6.1"
   ]
  },
  {
   "cell_type": "markdown",
   "metadata": {},
   "source": [
    "Kolla vilka klasser variablerna a, b, c, och d tillhör genom att använda type() funktionen. <br>\n",
    "Notera att vi i variablen d har sparat en funktion. Vi hade kunnat anropa den genom att till exempel skriva d(2). <br><br> \n",
    "- Variabel a: tillhör klassen \"int\" som representerar heltal. <br><br>\n",
    "- Variabel b: tillhör klassen \"list\", samlingar med ordnade element, element kan bestå av olika datatyper. <br><br> \n",
    "- Variabel c: tillhör klassen \"set\" (mängder). Mängder är oordnade samlingar av unika elemnt som endast kan förekomma en gång. Mängden i c innehåller således endast fyra element eftersom 2 och 8 är dubletter. <br><br> \n",
    "- Variabel d: är en funktion. Oavsätt vilket värde vi aplicerar på parametern x i funktionen kommer funktionen alltid retunera 4 eftersom return inte inkluderar x i beräkningen."
   ]
  },
  {
   "cell_type": "code",
   "execution_count": 98,
   "metadata": {},
   "outputs": [
    {
     "name": "stdout",
     "output_type": "stream",
     "text": [
      "<class 'int'>\n",
      "\n",
      "<class 'list'>\n",
      "\n",
      "<class 'set'>\n",
      "\n",
      "<class 'function'>\n",
      "\n",
      "4\n"
     ]
    }
   ],
   "source": [
    "\n",
    "a = 10\n",
    "b = [5, 7, 3]\n",
    "c = {2, 7, 1, 8, 2, 8}\n",
    "\n",
    "def my_fun(x):\n",
    "\t\treturn 2 * 2\n",
    "\n",
    "d = my_fun\n",
    "\n",
    "\n",
    "print(type(a))\n",
    "print()\n",
    "print(type(b))\n",
    "print()\n",
    "print(type(c))\n",
    "print()\n",
    "print(type(d)) \n",
    "print()\n",
    "print(d(2))"
   ]
  },
  {
   "cell_type": "markdown",
   "metadata": {},
   "source": [
    "### Uppgift 6.2\n"
   ]
  },
  {
   "cell_type": "markdown",
   "metadata": {},
   "source": [
    "a) Kolla om variablen \"my_variable\" är en instans av \"tuple\" klassen genom att använda isinstance() funktionen. <br>\n",
    "- Är en instans av \"tupel\" klassen. <br>\n",
    "\n",
    "b) Kolla om variablen \"my_variable\" är en instans av \"list\" klassen genom att använda isinstance() funktionen. <br>\n",
    "- Är inte en instans av \"list\" klassen.\t\t"
   ]
  },
  {
   "cell_type": "code",
   "execution_count": 99,
   "metadata": {},
   "outputs": [
    {
     "name": "stdout",
     "output_type": "stream",
     "text": [
      "my_variable ÄR en instans av \"tupel\" klassen\n",
      "\n",
      "my_variable är INTE en instans av \"list\" klassen\n"
     ]
    }
   ],
   "source": [
    "\n",
    "my_variable = (1, 1, 2, 3, 5)\n",
    "\n",
    "# 2a) my_variable ÄR en instans av \"tupel\" klassen.\n",
    "\n",
    "if isinstance(my_variable, tuple):\n",
    "\tprint('my_variable ÄR en instans av \"tupel\" klassen')\n",
    "else:\n",
    "    print('my_variable är INTE en instans av \"tupel\" klassen') \n",
    "\n",
    "print()\n",
    "\n",
    "\n",
    "# 2b) my_variable är INTE en instans av \"list\" klassen.\n",
    "    \n",
    "if isinstance(my_variable, list):\n",
    "    print('my_variable ÄR en instans av \"list\" klassen')\n",
    "else:\n",
    "    print('my_variable är INTE en instans av \"list\" klassen')"
   ]
  },
  {
   "cell_type": "markdown",
   "metadata": {},
   "source": [
    "### Uppgift 6.3\n"
   ]
  },
  {
   "cell_type": "markdown",
   "metadata": {},
   "source": [
    "\n",
    "I denna uppgiften skall du göra följande:\n",
    " \n",
    "   a) Skapa en klass som heter \"FruitProduct\" som har en docstring där det står \"A class representing fruit products in a grocery store.\".\n",
    "   \n",
    "   b) Klassen skall ha instans-attributen \"price\" och \"quantity\". Detta gör du i samband med _\\_\\_init_\\__() .\n",
    "   \n",
    "   c) Instantiera klassen och spara instansen i variablen \"swedish_apples\". Dess pris skall vara 52 och dess kvantitet 1. <br> Det är underförstått att vi menar kronor respektive kg. \n",
    "   \n",
    "   d) Printa ut klassens docstring genom att använda dig av _\\_\\_doc_\\_\\_.\n",
    "   \n",
    "   e) Printa ut attributen från \"swedish_apples\" instansen.\n",
    "   \n",
    "   f) Kolla vilken klass instansen \"swedish_apples\" tillhör genom att använda type() metoden.\n",
    "   \n",
    "   g) Kolla om \"swedish_apples\" tillhör klassen \"FruitProduct\" genom att använda isinstance() metoden."
   ]
  },
  {
   "cell_type": "markdown",
   "metadata": {},
   "source": [
    "#### Svar: Se nedan kommentarer i koden."
   ]
  },
  {
   "cell_type": "code",
   "execution_count": 100,
   "metadata": {},
   "outputs": [
    {
     "name": "stdout",
     "output_type": "stream",
     "text": [
      "A class representing fruit products in a grocery store.\n",
      "52\n",
      "1\n",
      "<class '__main__.FruitProduct'>\n",
      "True\n"
     ]
    }
   ],
   "source": [
    "class FruitProduct:\n",
    "    \"\"\"A class representing fruit products in a grocery store.\"\"\"\n",
    "\n",
    "    # Initierar en ny instans av klassen och sätter attributen 'price' och 'quantity'\n",
    "    def __init__(self, price, quantity):\n",
    "        self.price = price\n",
    "        self.quantity = quantity\n",
    "\n",
    "\n",
    "# Skapar en instans av FruitProduct och tilldelar den variabeln 'swedish_apples'\n",
    "swedish_apples = FruitProduct(price=52, quantity=1)\n",
    "\n",
    "# Skriver ut klassens docstring\n",
    "print(FruitProduct.__doc__)\n",
    "# Output: A class representing fruit products in a grocery store.\n",
    "\n",
    "# Skriver ut attributen 'price' och 'quantity' från instansen 'swedish_apples'\n",
    "print(swedish_apples.price)  # Output: 52\n",
    "print(swedish_apples.quantity)  # Output: 1\n",
    "\n",
    "# Kollar vilken klass instansen 'swedish_apples' tillhör\n",
    "print(type(swedish_apples))\n",
    "# Output: <class '__main__.FruitProduct'>\n",
    "\n",
    "# Kollar om 'swedish_apples' är en instans av klassen FruitProduct\n",
    "print(isinstance(swedish_apples, FruitProduct))\n",
    "# Output: True\n"
   ]
  },
  {
   "cell_type": "markdown",
   "metadata": {},
   "source": [
    "### Uppgift 6.4"
   ]
  },
  {
   "cell_type": "markdown",
   "metadata": {},
   "source": [
    "Skapa en klass \"Square\" vars instanser har attributet \"side_length\". Skapa två metoder, \"perimeter()\" och \"area()\" där metoderna beräknar omkretsen respektive arean givet längden på kvadraternas sidor som finns i attributet \"side_length\". Skapa en instans \"my_square\" med sidlängden 8. Beräkna omkretsen och arean av \"my_square\" genom att använda de två metoderna som du har skapat. "
   ]
  },
  {
   "cell_type": "markdown",
   "metadata": {},
   "source": [
    "#### Svar:"
   ]
  },
  {
   "cell_type": "code",
   "execution_count": 101,
   "metadata": {},
   "outputs": [
    {
     "name": "stdout",
     "output_type": "stream",
     "text": [
      "Perimeter: 32\n",
      "Area: 64\n"
     ]
    }
   ],
   "source": [
    "class Square:\n",
    "    def __init__(self, side_length):\n",
    "        self.side_length = side_length\n",
    "\n",
    "    def perimeter(self):\n",
    "        return 4 * self.side_length\n",
    "\n",
    "    def area(self):\n",
    "        return self.side_length ** 2  \n",
    "\n",
    "\n",
    "my_square = Square(8)\n",
    "print(\"Perimeter:\", my_square.perimeter())\n",
    "print(\"Area:\", my_square.area())\n"
   ]
  },
  {
   "cell_type": "markdown",
   "metadata": {},
   "source": [
    "### Uppgift 6.5\n"
   ]
  },
  {
   "cell_type": "markdown",
   "metadata": {},
   "source": [
    "**a) Förklara vad nedanstående kod gör.**<br><br>\n",
    "Sammanfattning av koden:\n",
    "\n",
    "Klass: <br>\n",
    "Beskriver att klass tillhandahåller funktioner för att beräkna beskrivande statistik från en lista.\n",
    "\n",
    "__init__-metoden: <br>\n",
    "Metoden initialiserar en tom lista för att lagra data.\n",
    "\n",
    "add_data-metoden: <br>\n",
    "Metoden lägger till ny data i listan om den angivna datan är en lista. <br>\n",
    "else: Skapar ett felmeddelande.\n",
    "\t\n",
    "calc_sum-metoden: <br>\n",
    "Metoden beräknar summan av alla värden i datalistan.\n",
    "\n",
    "calc_nbr_of_elements-metoden: <br>\n",
    "Metoden beräknar antalet element i datalistan.\n",
    "\n",
    "calc_mean-metoden: <br>\n",
    "Metoden beräknar medelvärdet av alla värden i datalistan.\n",
    "\n",
    "print_summary-metoden: <br>\n",
    "Metoden skriver ut summan, antalet element och medelvärdet av datan. <br><br>\n",
    "\n",
    "**b) Prova ändra variabeln L i koden nedan till en tuple och se vad som sker när du kör om all kod.** \n",
    "- Att endast ändra variabeln self.data från en lista till en tuple i koden påverka metoden add_data och kommer inte fungera. <br>\n",
    "För att en tuple skall fungera i koden måste även self.data.extend(data) i add_data metoden korrigeras till self.data += tuple(data) för att man ska kunna lägga till nya värden. <br>\n",
    "Skapar vi nu en ny instans av DescriptiveStatistics och lägger till ny data, kommer koden fungera med tuples istället för listor. <br>\n",
    "Men vi kan även ändra metoden add_data så att både listor och tuples acceptera."
   ]
  },
  {
   "cell_type": "code",
   "execution_count": 102,
   "metadata": {},
   "outputs": [],
   "source": [
    "class DescriptiveStatistics:\n",
    "    \"\"\"This class provides functionality for calculating descriptive statistics from a list.\"\"\"\n",
    "\n",
    "    def __init__(self):\n",
    "        self.data = []\n",
    "\n",
    "    def add_data(self, data):\n",
    "        # Om data är en lista eller tuple, lägg till elementen i data\n",
    "        if isinstance(data, (list, tuple)):\n",
    "            self.data.extend(data)\n",
    "        else:\n",
    "            # Om datan inte är en lista eller tuple, kasta ett undantag\n",
    "            raise Exception(\n",
    "                'Only \"Lists\" or \"Tuples\" are accepted as data.'\n",
    "            )\n",
    "\n",
    "    def calc_sum(self):\n",
    "        return sum(self.data)\n",
    "\n",
    "    def calc_nbr_of_elements(self):\n",
    "        return len(self.data)\n",
    "\n",
    "    def calc_mean(self):\n",
    "        return (self.calc_sum()) / (self.calc_nbr_of_elements())\n",
    "\n",
    "    def print_summary(self):\n",
    "        print(\"Sum:\", self.calc_sum())\n",
    "        print(\"Number of elements:\", self.calc_nbr_of_elements())\n",
    "        print(\"Mean:\", self.calc_mean())\n"
   ]
  },
  {
   "cell_type": "code",
   "execution_count": 103,
   "metadata": {},
   "outputs": [],
   "source": [
    "L = [1, 2, 1, 3, 5, 7, 4, 9, 10, 3, 2, 1, 6, 4, 3, 2, 1, 10, 9, 1, 8, 7, 3, 2, 1]\n",
    "my_data = DescriptiveStatistics()\n",
    "my_data.add_data(L)"
   ]
  },
  {
   "cell_type": "code",
   "execution_count": 104,
   "metadata": {},
   "outputs": [
    {
     "data": {
      "text/plain": [
       "[1, 2, 1, 3, 5, 7, 4, 9, 10, 3, 2, 1, 6, 4, 3, 2, 1, 10, 9, 1, 8, 7, 3, 2, 1]"
      ]
     },
     "execution_count": 104,
     "metadata": {},
     "output_type": "execute_result"
    }
   ],
   "source": [
    "my_data.data"
   ]
  },
  {
   "cell_type": "code",
   "execution_count": 105,
   "metadata": {},
   "outputs": [
    {
     "name": "stdout",
     "output_type": "stream",
     "text": [
      "Sum: 105\n",
      "Number of elements: 25\n",
      "Mean: 4.2\n"
     ]
    }
   ],
   "source": [
    "print(\"Sum:\", my_data.calc_sum())\n",
    "print(\"Number of elements:\", my_data.calc_nbr_of_elements())\n",
    "print(\"Mean:\", my_data.calc_mean())\n"
   ]
  },
  {
   "cell_type": "markdown",
   "metadata": {},
   "source": [
    "### Uppgift 6.6"
   ]
  },
  {
   "cell_type": "markdown",
   "metadata": {},
   "source": [
    "a) Skapa en klass som heter BankAccount. Klassen skall ha attributet \"account_holder\" som visar kontoinnehavarens namn samt attributet \"balance\" som visar kontoinnehavarens balans. <br> Klassen skall ha metoden \"deposit()\" för att kunna sätta in pengar på kontot samt metoden \"withdraw()\" för att kunna ta ut pengar från kontot. <br> Om bankinnehavaren försöker ta ut mer pengar än vad som finns på kontot skall meddelandet \"Too low balance\" printas ut."
   ]
  },
  {
   "cell_type": "code",
   "execution_count": 106,
   "metadata": {},
   "outputs": [],
   "source": [
    "class BankAccount:\n",
    "    \"\"\"En klass som representerar ett bankkonto med metoder för insättning och uttag.\"\"\"\n",
    "\n",
    "    def __init__(self, account_holder, balance=0):\n",
    "        \"\"\"\n",
    "        Initierar bankkontot med kontoinnehavarens namn och saldo.\n",
    "\n",
    "        Args:\n",
    "        account_holder (str): Namnet på kontoinnehavaren.\n",
    "        balance (float): Det initiala saldot på kontot. Standardvärde är 0.\n",
    "        \"\"\"\n",
    "        self.account_holder = account_holder\n",
    "        self.balance = balance\n",
    "\n",
    "    def deposit(self, amount):\n",
    "        \"\"\"Sätter in pengar på kontot.\"\"\"\n",
    "        if amount > 0:\n",
    "            self.balance += amount\n",
    "            print(f\"Insatt {amount}. Nytt saldo: {self.balance}\")\n",
    "        else:\n",
    "            print(\"Inbetalningsbeloppet måste vara positivt.\")\n",
    "\n",
    "    def withdraw(self, amount):\n",
    "        \"\"\"Tar ut pengar från kontot om det finns tillräckligt med medel.\"\"\"\n",
    "        if amount > self.balance:\n",
    "            print(\"För lågt saldo\")\n",
    "        elif amount > 0:\n",
    "            self.balance -= amount\n",
    "            print(f\"Uttag {amount}. Nytt saldo: {self.balance}\")\n",
    "        else:\n",
    "            print(\"Uttagsbeloppet måste vara positivt.\")\n"
   ]
  },
  {
   "cell_type": "markdown",
   "metadata": {},
   "source": [
    "b) Skapa en instans av klassen och testa så klassen funkar så som du förväntar dig.<br> Du kan till exempel prova printa ut attributen, sätta in pengar och ta ut pengar. "
   ]
  },
  {
   "cell_type": "code",
   "execution_count": 107,
   "metadata": {},
   "outputs": [
    {
     "name": "stdout",
     "output_type": "stream",
     "text": [
      "Kontoinnehavare: Kalle\n",
      "Nuvarande saldo: 400\n",
      "Insatt 200. Nytt saldo: 600\n",
      "För lågt saldo\n",
      "Inbetalningsbeloppet måste vara positivt.\n",
      "Uttagsbeloppet måste vara positivt.\n",
      "Uttag 500. Nytt saldo: 100\n",
      "Slutligt saldo: 100\n"
     ]
    }
   ],
   "source": [
    "# Skapar en instans av BankAccount med kontoinnehavaren \"\" och ett startbelopp på 400\n",
    "konto = BankAccount(\"Kalle\", 400)\n",
    "\n",
    "# Printar kontoinnehavarens namn och nuvarande saldo\n",
    "print(\"Kontoinnehavare:\", konto.account_holder)\n",
    "print(\"Nuvarande saldo:\", konto.balance)\n",
    "\n",
    "# Sätter in 200 på kontot\n",
    "konto.deposit(200)\n",
    "\n",
    "# Försöker ta ut 1000 från kontot, vilket överstiger saldot\n",
    "konto.withdraw(1000)\n",
    "\n",
    "# Försöker sätta in ett negativt belopp\n",
    "konto.deposit(-100)\n",
    "\n",
    "# Försöker ta ut ett negativt belopp\n",
    "konto.withdraw(-50)\n",
    "\n",
    "# Tar ta ut 500 från kontot\n",
    "konto.withdraw(500)\n",
    "\n",
    "# Slutligt saldo\n",
    "print(\"Slutligt saldo:\", konto.balance)\n"
   ]
  },
  {
   "cell_type": "markdown",
   "metadata": {},
   "source": [
    "### Uppgift 6.7"
   ]
  },
  {
   "cell_type": "markdown",
   "metadata": {},
   "source": [
    "Din kollega Adrian frågar dig, vad är klasser för något? Försök förklara detta för Adrian. <br> Använd begreppen instanser, attribut samt metoder i din förklaring. "
   ]
  },
  {
   "cell_type": "markdown",
   "metadata": {},
   "source": [
    "##### Svar:"
   ]
  },
  {
   "cell_type": "markdown",
   "metadata": {},
   "source": [
    "Jag förklara begreppen för Adrian med nedan visuella kakexempel 🍰."
   ]
  },
  {
   "attachments": {
    "image.png": {
     "image/png": "[encoded data removed]"
    }
   },
   "cell_type": "markdown",
   "metadata": {},
   "source": [
    "![image.png](attachment:image.png)"
   ]
  },
  {
   "cell_type": "markdown",
   "metadata": {},
   "source": [
    "## **Kapitel 7 - Konventioner och standarder**\n"
   ]
  },
  {
   "cell_type": "markdown",
   "metadata": {},
   "source": [
    "### Uppgift 7.1"
   ]
  },
  {
   "cell_type": "markdown",
   "metadata": {},
   "source": [
    "Läs \"PEP 8 – Style Guide for Python Cod\"  och besvaranedanstående frågor. <br><br>\n",
    " \n",
    "   a) Om du arbetar i ett projekt som har ett internt dokument med \"style guidelines\" där vissa saker går emot vad PEP8 säger. Vad gör du då? \n",
    "   - Vid eventuella konflikter har projektspecifika riktlinjer företräde för det aktuella projektet. <br><br>\n",
    "\n",
    "   b) På vilket språk skall kommentarer generellt sett skrivas.\n",
    "   - På engelska. <br><br>\n",
    "   \n",
    "   c) Hur skall funktioner och variabler namnges? \n",
    "   - Funktions och variabelnamn ska skrivas med små bokstäver och understreck användas mellan ord för att göra dem lättare att läsa. <br><br>\n",
    "   \n",
    "   d) Hur skall klasser namnges? \n",
    "   - CapWords ska användas för klassnamn. Varje ord påbörjas med stora bokstäver och orden skrivs samman utan mellanslag eller understreck. <br><br>\n",
    "   \n",
    "   e) Om du i ditt skript importerar exempelvis en modul, vart i skriptet skall koden som utför importen placeras?\n",
    "   - Alla import-satser placeras i en separat funktion högst upp i skriptet, direkt efter eventuella kommentarer eller docstrings, samt innan någon annan kod. <br><br>\n",
    "  \n",
    "   f) Enligt PEP 8, skall man använda enkla ('my_string') eller dubbla (\"my_string\") citattecken för att skapa en sträng? <br>\n",
    "   - PEP 8 ger inga rekomendationer gällande enkla eller dubbla citattecken när man skapar en sträng, de betraktas på samma sätt. <br>\n",
    "   Det är dock viktigt att vara konsekvent i din kodstil och att välja citattecken som gör koden lättast att läsa och underhålla. <br>\n",
    "   Om din sträng innehåller inbäddade citattecken av en typ, använd den andra typen för att undvika att behöva escapa citattecknen. <br><br>\n",
    "   \n",
    "   g) Vilket av \"Alternativ 1\" och \"Alternativ 2\" nedan är det korrekta sättet att skriva koden på enligt PEP8? <br>\n",
    "   - Alternativ 1 är rätt sätt att skriva kod på.\n"
   ]
  },
  {
   "cell_type": "code",
   "execution_count": 108,
   "metadata": {},
   "outputs": [],
   "source": [
    "# Alternativ 1\n",
    "a1 = 5 + 2\n",
    "\n",
    "# Alternativ 2\n",
    "a2 =5+2"
   ]
  },
  {
   "cell_type": "markdown",
   "metadata": {},
   "source": [
    "### Uppgift 7.2"
   ]
  },
  {
   "cell_type": "markdown",
   "metadata": {},
   "source": [
    "I \"PEP20 - The Zen of Python\" så står det:\n",
    "   \n",
    "   a) \"Explicit is better than implicit.\" Vad tror du det innebär? Kan du exemplifiera? <br>\n",
    "   - Uttryck betonar vikten av att skriva kod som är tydlig och lätt att förstå, även om det innebär att koden ibland blir lite längre eller mer detaljerad. <br><br>\n"
   ]
  },
  {
   "cell_type": "markdown",
   "metadata": {},
   "source": [
    "Implicit lösning:"
   ]
  },
  {
   "cell_type": "code",
   "execution_count": 109,
   "metadata": {},
   "outputs": [
    {
     "name": "stdout",
     "output_type": "stream",
     "text": [
      "15\n"
     ]
    }
   ],
   "source": [
    "x = 10\n",
    "y = 5\n",
    "z = x + y\n",
    "print(z)"
   ]
  },
  {
   "cell_type": "markdown",
   "metadata": {},
   "source": [
    "Explicit lösning:"
   ]
  },
  {
   "cell_type": "code",
   "execution_count": 110,
   "metadata": {},
   "outputs": [
    {
     "name": "stdout",
     "output_type": "stream",
     "text": [
      "15\n"
     ]
    }
   ],
   "source": [
    "antal_äpplen = 10\n",
    "antal_apelsiner = 5\n",
    "totalt_frukter = antal_äpplen + antal_apelsiner\n",
    "print(totalt_frukter)"
   ]
  },
  {
   "cell_type": "markdown",
   "metadata": {},
   "source": [
    " b) \"Simple is better than complex.\" Vad tror du det innebär? Kan du exemplifiera? . <br>\n",
    " - Betonar vikten av att skriva kod som är enkel och lätt att förstå. En enkel lösning är ofta lättare att läsa, underhålla, och mindre benägen att innehålla buggar jämfört med en komplex lösning."
   ]
  },
  {
   "cell_type": "markdown",
   "metadata": {},
   "source": [
    "Komplex lösning"
   ]
  },
  {
   "cell_type": "code",
   "execution_count": 111,
   "metadata": {},
   "outputs": [
    {
     "name": "stdout",
     "output_type": "stream",
     "text": [
      "The sum of the list is: 15\n"
     ]
    }
   ],
   "source": [
    "def calculate_sum(numbers):\n",
    "    total = 0\n",
    "    for number in numbers:\n",
    "        total += number\n",
    "    return total\n",
    "\n",
    "\n",
    "numbers = [1, 2, 3, 4, 5]\n",
    "result = calculate_sum(numbers)\n",
    "\n",
    "print(f\"The sum of the list is: {result}\")"
   ]
  },
  {
   "cell_type": "markdown",
   "metadata": {},
   "source": [
    "Enkel lösning <br>"
   ]
  },
  {
   "cell_type": "code",
   "execution_count": 112,
   "metadata": {},
   "outputs": [
    {
     "name": "stdout",
     "output_type": "stream",
     "text": [
      "The sum of the list is: 15\n"
     ]
    }
   ],
   "source": [
    "def calculate_sum(numbers):\n",
    "    return sum(numbers)\n",
    "\n",
    "\n",
    "numbers = [1, 2, 3, 4, 5]\n",
    "result = calculate_sum(numbers)\n",
    "print(f\"The sum of the list is: {result}\")"
   ]
  },
  {
   "cell_type": "markdown",
   "metadata": {},
   "source": [
    "### Uppgift 7.3"
   ]
  },
  {
   "cell_type": "markdown",
   "metadata": {},
   "source": [
    "Du och din nya kollega har en fikapaus och han säger följande: <br> \"Det känns krångligt att vi alla skall behöva följa konventioner och standarder. Är det inte lättare om alla bara skriver kod på det sättet som de vill, sålänge som den fungerar\"? <br> Vad svarar du? \n",
    "- Om alla skriver sin egen kod som de själva behagar utan att följa standarder och kodkonventioner blir koden svår att tolka, underhålla och arbeta med i projektet. <br> Tänk dig om alla lokförare i landet körde tåg på sitt eget bevåg, utan att följa sina tidtabellerna och tåglinjer."
   ]
  },
  {
   "cell_type": "markdown",
   "metadata": {},
   "source": [
    "## **Kapitel 8 - Felhantering**\n"
   ]
  },
  {
   "cell_type": "markdown",
   "metadata": {},
   "source": [
    "### Uppgift 8.1"
   ]
  },
  {
   "cell_type": "markdown",
   "metadata": {},
   "source": [
    "Din kollega Johanna frågar dig: <br><br>\n",
    "   \n",
    "   a) Vad är syntax errors? <br>\n",
    "   - Syntaxfel uppstår när koden inte följer programmeringsspråkets regler, vilket medför att koden inte kan köras och stannar vid syntaxfelet. <br> Det kan  till exempel vara att man missat en parantes, använt en felaktig indentering eller en felaktig variabelhänvisning (t.ex. ogiltigt namn). <br><br>\n",
    "   \n",
    "   \n",
    "   b) Varför skulle man vilja \"fånga exceptions\" i ett program och inte bara låta programmet stanna vid fel? <br>\n",
    "- ”Exceptions, eller undantag, fungerar som varningslampor i ett program. Genom att fånga dessa undantag kan man i förväg definiera hur programmet ska reagera på \t eventuella fel, utan att behöva stanna eller krascha. Detta är ett viktigt verktyg för att undvika krascher och möjliggör tydligare felmeddelanden, vilket ger användaren bättre information om vad som gått fel.\n",
    "Att hantera undantag på rätt sätt gör också att programmet kan fortsätta att fungera trots att fel inträffar, och skapar ett robustare system. Exempelvis är undantagshantering särskilt användbart vid filhantering eller vid kommunikation med externa tjänster, där fel är vanliga men kan hanteras utan att hela programmet påverkas. <br><br>\n",
    "\n",
    "   \n",
    "   c) Varför skulle man vilja \"lyfta exceptions\" omi ett program? <br>\n",
    "- Att \"lyfta exceptions\" i ett program innebär att medvetet kasta ett felmeddelande för att signalera ett problem och hantera fel på ett planerat och strukturerat sätt. Genom att lyfta exceptions kan man identifiera och behandla specifika fel, vilket gör det enklare att förstå och åtgärda problem. Detta gör koden renare och mer underhållsvänlig, då man kan hantera fel där de bäst passar in i programflödet. Det bidrar också till stabiliteten i programmet eftersom allvarliga fel kan stoppas och hanteras innan de orsakar större problem eller krascher."
   ]
  },
  {
   "cell_type": "markdown",
   "metadata": {},
   "source": [
    "### Uppgift 8.2"
   ]
  },
  {
   "cell_type": "markdown",
   "metadata": {},
   "source": [
    "a) Förklara vad nedanstående kod gör. <br> <br>\n",
    "- Funktionen convert_string_to_int försöker konvertera en sträng till ett heltal. Om konverteringen misslyckas på grund av ett ValueError, returnerar funktionen meddelandet \"Invalid input, cannot convert to integer.\" Om konverteringen lyckas, returnerar funktionen det konverterade heltalsvärdet. Funktionen använder ett try-except-else-block för att hantera eventuella fel på ett kontrollerat sätt och förhindra att programmet kraschar. <br><br>\n",
    "b) Generellt sett, vad är poängen med att använda \"else\"? <br><br>\n",
    "- Att använda 'else' i programmering hjälper till att hantera alternativa scenarier när huvudvillkoret 'if' inte är uppfyllt. Det gör koden mer läsbar och förutsägbar genom att strukturera alla möjliga utfall på ett tydligt sätt, vilket förbättrar både flödeskontrollen och minskar risken för fel.  "
   ]
  },
  {
   "cell_type": "code",
   "execution_count": 113,
   "metadata": {},
   "outputs": [
    {
     "name": "stdout",
     "output_type": "stream",
     "text": [
      "314\n",
      "Invalid input, cannot convert to integer.\n"
     ]
    }
   ],
   "source": [
    "def convert_string_to_int(string):\n",
    "    try:\n",
    "        int(string)\n",
    "    except ValueError:\n",
    "        return \"Invalid input, cannot convert to integer.\"\n",
    "    else:\n",
    "        return int(string)\n",
    "\n",
    "\n",
    "print(convert_string_to_int(\"314\"))\n",
    "print(convert_string_to_int(\"abc\"))\n"
   ]
  },
  {
   "cell_type": "markdown",
   "metadata": {},
   "source": [
    "### Uppgift 8.3"
   ]
  },
  {
   "cell_type": "markdown",
   "metadata": {},
   "source": [
    "Skriv ett kodexempel där du fångar en exception. Endast din kreativitet sätter gränser. \n"
   ]
  },
  {
   "cell_type": "code",
   "execution_count": 114,
   "metadata": {},
   "outputs": [],
   "source": [
    "def calculate_accident_risk(accidents, employees, years):\n",
    "    \"\"\"\n",
    "    Calculates accident risk based on the number of accidents, number of employees, and the time period.\n",
    "\n",
    "    Parameters:\n",
    "    accidents (int): Number of accidents occurring during the specified period.\n",
    "    employees (int): Number of people exposed to the risk.\n",
    "    years (int): Time period (in years) over which the accidents are reported.\n",
    "\n",
    "    Returns:\n",
    "    float: Accident risk calculated as accidents per employee per year.\n",
    "    str: Error message if input data is invalid or if an error occurs.\n",
    "    \"\"\"\n",
    "    try:\n",
    "        # Check if input is valid\n",
    "        if not (\n",
    "            isinstance(accidents, int)\n",
    "            and isinstance(employees, int)\n",
    "            and isinstance(years, int)\n",
    "        ):\n",
    "            raise ValueError(\"All input values must be integers.\")\n",
    "        if employees <= 0 or years <= 0:\n",
    "            raise ValueError(\n",
    "                \"Number of employees and years must be greater than zero.\"\n",
    "            )\n",
    "\n",
    "        # Calculate frequency\n",
    "        frequency = accidents / years\n",
    "    except ZeroDivisionError:\n",
    "        return \"Error: Division by zero is not allowed.\"\n",
    "    except ValueError as ve:\n",
    "        return f\"Error: {ve}\"\n",
    "    except Exception as e:\n",
    "        return f\"Unexpected error: {e}\"\n",
    "    else:\n",
    "        # Calculate risk if no exception occurred\n",
    "        risk = frequency / employees\n",
    "        return risk\n"
   ]
  },
  {
   "cell_type": "code",
   "execution_count": 115,
   "metadata": {},
   "outputs": [
    {
     "name": "stdout",
     "output_type": "stream",
     "text": [
      "Testing with: accidents=25, employees=200, years=5\n",
      "Result: 0.025\n",
      "\n",
      "Testing with: accidents=15, employees=100, years=0.5\n",
      "Result: Error: All input values must be integers.\n",
      "\n",
      "Testing with: accidents=5, employees=50, years=5\n",
      "Result: 0.02\n",
      "\n",
      "Testing with: accidents=2, employees=0, years=5\n",
      "Result: Error: Number of employees and years must be greater than zero.\n",
      "\n",
      "Testing with: accidents=0, employees=350, years=5\n",
      "Result: 0.0\n",
      "\n",
      "Testing with: accidents=47, employees=350, years=5\n",
      "Result: 0.026857142857142857\n",
      "\n"
     ]
    }
   ],
   "source": [
    "\"\"\"\n",
    "Info test data:\n",
    "\n",
    "Number of accidents: How many accidents occur during the specified period.\n",
    "Number of employees: How many people are exposed to the risk during the same period.\n",
    "Years: The time period (in years) over which the accidents are reported.\n",
    "\"\"\"\n",
    "\n",
    "test_data = [\n",
    "    (25, 200, 5),  # Industrial accidents\n",
    "    (15, 100, 0.5),  # Construction site accidents\n",
    "    (5, 50, 5),  # Transport accidents\n",
    "    (2, 0, 5),  # Storage accidents\n",
    "    (0, 350, 5),  # No accidents\n",
    "    (47, 350, 5),  # Valid input over several years\n",
    "]\n",
    "\n",
    "\n",
    "# Test the function\n",
    "\n",
    "for accidents, employees, years in test_data:\n",
    "    print(\n",
    "        f\"Testing with: accidents={accidents}, employees={employees}, years={years}\"\n",
    "    )\n",
    "    result = calculate_accident_risk(accidents, employees, years)\n",
    "    print(f\"Result: {result}\\n\")\n"
   ]
  },
  {
   "cell_type": "markdown",
   "metadata": {},
   "source": [
    "### Uppgift 8.4"
   ]
  },
  {
   "cell_type": "markdown",
   "metadata": {},
   "source": [
    "Skapa en funktion \"add_two_small_numbers\" som adderar två tal. Om något av talen är större än 100 så skall du lyfta en exception och skriva ut meddelandet \"both numbers must be smaller than or equal to 100\". \n"
   ]
  },
  {
   "cell_type": "code",
   "execution_count": 116,
   "metadata": {},
   "outputs": [
    {
     "name": "stdout",
     "output_type": "stream",
     "text": [
      "The result for 50 + 30 is: 80\n",
      "Error: both numbers must be smaller than or equal to 100 for values 101 and 20\n",
      "Error: both numbers must be smaller than or equal to 100 for values 110 and -10\n",
      "The result for 75 + 25 is: 100\n",
      "The result for 0 + 50 is: 50\n",
      "The result for 100 + 100 is: 200\n",
      "The result for -101 + 10 is: -91\n"
     ]
    }
   ],
   "source": [
    "def add_two_small_numbers(x, y):\n",
    "    \"\"\"\n",
    "    Adds two numbers if both are smaller than or equal to 100.\n",
    "\n",
    "    Parameters:\n",
    "    x (int or float): The first number to add.\n",
    "    y (int or float): The second number to add.\n",
    "\n",
    "    Returns:\n",
    "    int or float: The sum of the two numbers if both are valid.\n",
    "\n",
    "    Raises:\n",
    "    ValueError: If any of the numbers is greater than 100.\n",
    "    \"\"\"\n",
    "    if x > 100 or y > 100:\n",
    "        raise ValueError(\n",
    "            \"both numbers must be smaller than or equal to 100\"\n",
    "        )\n",
    "    return x + y\n",
    "\n",
    "\n",
    "# List of test cases\n",
    "test_cases = [\n",
    "    (50, 30),  # Valid input\n",
    "    (101, 20),  # Invalid input (x > 100)\n",
    "    (110, -10),  # Invalid input (y > 100)\n",
    "    (75, 25),  # Valid input\n",
    "    (0, 50),  # Valid input\n",
    "    (100, 100),  # Valid input\n",
    "    (-101, 10),  # Valid input\n",
    "]\n",
    "\n",
    "# Iterate through each test case and run the function\n",
    "for x, y in test_cases:\n",
    "    try:\n",
    "        result = add_two_small_numbers(x, y)\n",
    "        print(f\"The result for {x} + {y} is: {result}\")\n",
    "    except ValueError as ve:\n",
    "        print(f\"Error: {ve} for values {x} and {y}\")\n"
   ]
  },
  {
   "cell_type": "markdown",
   "metadata": {},
   "source": [
    "### Uppgift 8.5"
   ]
  },
  {
   "cell_type": "markdown",
   "metadata": {},
   "source": [
    "Din kollega, som är en skicklig programmerare, brukar innan hon försöker göra ett perfekt fungerande program testa olika ideér för att undersöka och lära sig mer om det problem hon försöker lösa. <br> Nedan ser du ett av hennes skript som gjorts i syfte att undersöka och lära sig mer. <br> Förklara vad det är hon gjort. \n"
   ]
  },
  {
   "cell_type": "markdown",
   "metadata": {},
   "source": [
    "#### Svar:"
   ]
  },
  {
   "cell_type": "markdown",
   "metadata": {},
   "source": [
    "Koderna demonstrerar hantering och diagnostisering av fel i Python-program. Genom att avsiktligt utföra operationer som orsakar fel, såsom att addera ett heltal till en sträng eller att dela med noll, och sedan fånga och hantera dessa fel, lär sig användaren att skapa mer robusta och användarvänliga program.\n",
    "\n",
    "Den första koden försöker addera ett heltal till en sträng, vilket resulterar i ett TypeError. Den andra koden utför en division med noll, vilket leder till ett ZeroDivisionError. Den tredje koden definierar en funktion för att dividera två tal, hanterar både TypeError och ZeroDivisionError, och testar funktionen med olika typer av indata för att visa felhanteringen.\n",
    "\n",
    "Sammanfattningsvis hjälper dessa övningar oss att utveckla tillförlitliga och hållbara applikationer genom effektiv felhantering."
   ]
  },
  {
   "cell_type": "code",
   "execution_count": 117,
   "metadata": {},
   "outputs": [
    {
     "name": "stdout",
     "output_type": "stream",
     "text": [
      "<class 'TypeError'>\n",
      "unsupported operand type(s) for +: 'int' and 'str'\n"
     ]
    }
   ],
   "source": [
    "# Checking which exception is raised\n",
    "try:\n",
    "    5 + \"Python is fun!\"\n",
    "except Exception as exception_instance:\n",
    "    print(type(exception_instance))\n",
    "    print(exception_instance)\n"
   ]
  },
  {
   "cell_type": "code",
   "execution_count": 118,
   "metadata": {},
   "outputs": [
    {
     "name": "stdout",
     "output_type": "stream",
     "text": [
      "<class 'ZeroDivisionError'>\n",
      "division by zero\n"
     ]
    }
   ],
   "source": [
    "# Checking which exception is raised\n",
    "try:\n",
    "    5 / 0\n",
    "except Exception as exception_instance:\n",
    "    print(type(exception_instance))\n",
    "    print(exception_instance)\n"
   ]
  },
  {
   "cell_type": "code",
   "execution_count": 119,
   "metadata": {},
   "outputs": [
    {
     "name": "stdout",
     "output_type": "stream",
     "text": [
      "Trying to divide 5 by 2\n",
      "Result: 2.5\n",
      "2.5\n",
      "\n",
      "Trying to divide 5 by hello\n",
      "Both arguments must be numbers.\n",
      "\n",
      "None\n",
      "\n",
      "Trying to divide 5 by 0\n",
      "Division by zero is not defined.\n",
      "\n",
      "None\n",
      "\n",
      "Trying to divide 6 by -2\n",
      "Result: -3.0\n",
      "-3.0\n"
     ]
    }
   ],
   "source": [
    "def add_two_numbers(a, b):\n",
    "    print(f\"Trying to divide {a} by {b}\")\n",
    "    try:\n",
    "        result = a / b\n",
    "        print(f\"Result: {result}\")\n",
    "        return result\n",
    "    except TypeError:\n",
    "        print(\"Both arguments must be numbers.\\n\")\n",
    "    except ZeroDivisionError:\n",
    "        print(\"Division by zero is not defined.\\n\")\n",
    "\n",
    "\n",
    "# Running tests to verify the functionality\n",
    "print(add_two_numbers(5, 2))\n",
    "print()\n",
    "print(add_two_numbers(5, \"hello\"))\n",
    "print()\n",
    "print(add_two_numbers(5, 0))\n",
    "print()\n",
    "print(add_two_numbers(6, -2))\n"
   ]
  },
  {
   "cell_type": "markdown",
   "metadata": {},
   "source": [
    "## **Kapitel 9 - Test**\n"
   ]
  },
  {
   "cell_type": "markdown",
   "metadata": {},
   "source": [
    "### Uppgift 9.1"
   ]
  },
  {
   "cell_type": "markdown",
   "metadata": {},
   "source": [
    "Varför är det generellt sett en god idé att bygga upp tester för sin kod? \n",
    "- Det är en viktig del i kodning och uppbyggnad av program. Tester hjälper till att upptäcka och rätta till fel och säkerställer att kodändringar inte orsakar nya problem. Man upprätthåller kodens kvalitet och stabilitet över tid. \n",
    "Dessutom gör tester det enklare att felsöka och förbättrar kodens underhållbarhet, vilket sparar tid och frustration i det långa loppet.\n"
   ]
  },
  {
   "cell_type": "markdown",
   "metadata": {},
   "source": [
    "### Uppgift 9.2\n"
   ]
  },
  {
   "cell_type": "markdown",
   "metadata": {},
   "source": [
    "Nedan ser du funktionen multiply_two_numbers. Använd \"doctest\" modulen för att implementera några test för funktionen \"multiply_two_numbers\". <br> \n",
    "Den läsare som önskar kan även implementera testen i modulen \"pytest\". "
   ]
  },
  {
   "cell_type": "code",
   "execution_count": 120,
   "metadata": {},
   "outputs": [],
   "source": [
    "def multiply_two_numbers(a, b):\n",
    "    \"\"\"Return the product of a and b.\"\"\"\n",
    "    return a * b\n"
   ]
  },
  {
   "cell_type": "code",
   "execution_count": 121,
   "metadata": {},
   "outputs": [
    {
     "name": "stdout",
     "output_type": "stream",
     "text": [
      "Doctests executed successfully.\n",
      "(2, 3): 6\n",
      "(0, 4): 0\n",
      "(-1, 5): -5\n",
      "(3, 3): 9\n",
      "(two, 3): Invalid input\n",
      "(2, @): Invalid input\n",
      "(2, a): Invalid input\n"
     ]
    }
   ],
   "source": [
    "import doctest\n",
    "\n",
    "\n",
    "def multiply_two_numbers(a, b):\n",
    "    \"\"\"\n",
    "    Return the product of a and b.\n",
    "\n",
    "    Examples:\n",
    "    >>> multiply_two_numbers(2, 3)\n",
    "    6\n",
    "    >>> multiply_two_numbers(0, 4)\n",
    "    0\n",
    "    >>> multiply_two_numbers(-1, 5)\n",
    "    -5\n",
    "    >>> multiply_two_numbers(3, 3)\n",
    "    9\n",
    "    >>> multiply_two_numbers('two', 3)  # Bug test: invalid input (string instead of integer)\n",
    "    'Invalid input'\n",
    "    >>> multiply_two_numbers(2, '@')  # Bug test: invalid input (special character instead of integer)\n",
    "    'Invalid input'\n",
    "    >>> multiply_two_numbers(2, 'a')  # Bug test: invalid input (letter instead of integer)\n",
    "    'Invalid input'\n",
    "    \"\"\"\n",
    "    try:\n",
    "        if not (isinstance(a, int) and isinstance(b, int)):\n",
    "            raise ValueError(\"Invalid input\")\n",
    "        result = a * b\n",
    "        return result\n",
    "    except ValueError as e:\n",
    "        return str(e)\n",
    "\n",
    "\n",
    "if __name__ == \"__main__\":\n",
    "    doctest.testmod()\n",
    "    print(\"Doctests executed successfully.\")\n",
    "\n",
    "    # Example of generating and printing results in a loop\n",
    "    test_cases = [\n",
    "        (2, 3),\n",
    "        (0, 4),\n",
    "        (-1, 5),\n",
    "        (3, 3),\n",
    "        (\"two\", 3),\n",
    "        (2, \"@\"),\n",
    "        (2, \"a\"),\n",
    "    ]\n",
    "    for a, b in test_cases:\n",
    "        result = multiply_two_numbers(a, b)\n",
    "        print(f\"({a}, {b}): {result}\")\n"
   ]
  },
  {
   "cell_type": "markdown",
   "metadata": {},
   "source": [
    "### Uppgift 9.3\n"
   ]
  },
  {
   "cell_type": "markdown",
   "metadata": {},
   "source": [
    "Skriv någon kod eller använd någon kod som du till exempel skrivit i tidigare kapitels uppgifter och implementera några test. Använd \"doctest\" och/eller \"pytest\" modulen. "
   ]
  },
  {
   "cell_type": "code",
   "execution_count": 122,
   "metadata": {},
   "outputs": [
    {
     "name": "stdout",
     "output_type": "stream",
     "text": [
      "Doctests executed successfully.\n",
      "Generated password: T`/~.cAtm/\n",
      "Generated password: Invalid input: Length must be an integer.\n",
      "Generated password with digit: ap^0q4\n"
     ]
    }
   ],
   "source": [
    "import random\n",
    "import string\n",
    "import doctest\n",
    "\n",
    "\n",
    "def generate_password(length=6, include_digits=False):\n",
    "    \n",
    "    \"\"\"\n",
    "    Generate a random password of given length (default 6). If include_digits is True, digits are included.\n",
    "    If the password contains a digit and include_digits is False, raise a ValueError.\n",
    "\n",
    "    Examples:\n",
    "    >>> len(generate_password(6)) in [6, 10]\n",
    "    True\n",
    "    >>> len(generate_password()) in [6, 10]\n",
    "    True\n",
    "    >>> isinstance(generate_password(6), str)\n",
    "    True\n",
    "    >>> generate_password('six')\n",
    "    'Invalid input: Length must be an integer.'\n",
    "    >>> # generate_password(6, include_digits=True) may vary and raise ValueError if it contains digits\n",
    "    \"\"\"\n",
    "    try:\n",
    "        # Check if length is an integer\n",
    "        if not isinstance(length, int):\n",
    "            raise ValueError(\n",
    "                \"Invalid input: Length must be an integer.\"\n",
    "            )\n",
    "\n",
    "        # Set fixed length to 6 characters by default\n",
    "        length = 6\n",
    "\n",
    "        # Bug: Occasionally set length to 10 characters\n",
    "        if (\n",
    "            random.random() < 0.3\n",
    "        ):  # 30% chance to generate a 10-character password\n",
    "            length = 10\n",
    "\n",
    "        # Include letters and punctuation, excluding digits\n",
    "        characters = string.ascii_letters + string.punctuation\n",
    "\n",
    "        # Ensure at least one digit is included if include_digits is True\n",
    "        if include_digits:\n",
    "            characters += string.digits\n",
    "            result = \"\".join(\n",
    "                random.choice(characters) for _ in range(length - 1)\n",
    "            )  # Generate all but one character\n",
    "            result += random.choice(\n",
    "                string.digits\n",
    "            )  # Add one digit to ensure it contains a digit\n",
    "        else:\n",
    "            # Generate password\n",
    "            result = \"\".join(\n",
    "                random.choice(characters) for _ in range(length)\n",
    "            )\n",
    "\n",
    "        # Check if the password contains digits if include_digits is False\n",
    "        if not include_digits and any(\n",
    "            char.isdigit() for char in result\n",
    "        ):\n",
    "            raise ValueError(f\"Password contains a digit: {result}\")\n",
    "\n",
    "        return result\n",
    "\n",
    "    except ValueError as e:\n",
    "        return str(e)\n",
    "\n",
    "\n",
    "def test_generate_password_with_digits():\n",
    "    \"\"\"Test function to specifically generate a password with digits.\"\"\"\n",
    "    try:\n",
    "        password = generate_password(6, include_digits=True)\n",
    "        print(f\"Generated password with digit: {password}\")\n",
    "    except ValueError as e:\n",
    "        print(e)\n",
    "\n",
    "\n",
    "def main():\n",
    "    # Run doctest to verify that the functions work as expected\n",
    "    doctest.testmod()\n",
    "    print(\"Doctests executed successfully.\")\n",
    "\n",
    "    # Example of generating and printing passwords\n",
    "    password = generate_password()\n",
    "    if (\n",
    "        \"Password contains a digit:\" not in password\n",
    "        and \"Invalid input:\" not in password\n",
    "    ):\n",
    "        print(f\"Generated password: {password}\")\n",
    "\n",
    "    # Example of generating and printing error messages\n",
    "    password = generate_password(\"six\")\n",
    "    print(f\"Generated password: {password}\")\n",
    "\n",
    "    # Test generating a password with a digit\n",
    "    test_generate_password_with_digits()\n",
    "\n",
    "\n",
    "if __name__ == \"__main__\":\n",
    "    main()\n"
   ]
  },
  {
   "cell_type": "markdown",
   "metadata": {},
   "source": [
    "## **Kapitel 10 - Moduler och paket**\n"
   ]
  },
  {
   "cell_type": "markdown",
   "metadata": {},
   "source": [
    "### Uppgift 10.1\n"
   ]
  },
  {
   "cell_type": "markdown",
   "metadata": {},
   "source": [
    "Vad är en modul och hur kan en sådan användas i andra filer? \n",
    "- En modul är en fil, vanligtvis med filtillägget .py, som innehåller Python-kod. Den kan innehålla funktioner, klasser och variabler som kan återanvändas i andra filer och kod genom att importera specifika delar eller hela modulen. Man kan tolka moduler som en återvinningsbar kodbank som hjälper oss att organisera och strukturera koden, samtidigt som vi minskar risken för fel och förbättrar kodens underhållbarhet. <br>\n",
    "I Python finns det tre olika typer av moduler: Pythons inbyggda moduler i standardbiblioteket som kan användas direkt genom att importera dem, tredjepartsmoduler från externa källor som installeras med pip, och egna moduler som man själv kan skapa.\n",
    "\n"
   ]
  },
  {
   "cell_type": "markdown",
   "metadata": {},
   "source": [
    "### Uppgift 10.2\n"
   ]
  },
  {
   "cell_type": "markdown",
   "metadata": {},
   "source": [
    "a) Importera modulen \"math\" från \"The Python Standard Library\": https://docs.python.org/3/library/index.html utan att använda aliasing. <br><br>\n",
    "\n",
    "b) Skriv help(math.ceil). Förstår du vad \"ceil()\" funktionen gör? <br>\n",
    "- \"math.ceil()\" returnerar det minsta heltalet som är större än eller lika med x. Om x inte är ett flyttal, delegerar till x.ceil, vilket bör returnera ett heltalsvärde. <br><br>\n",
    "\n",
    "c) Skriv math.ceil(10.2), vad får du för svar och varför?\n",
    "- Output för \"math.ceil(10.2)\" ger 11 då det avrundar till närmaste heltal uppåt. <br><br>\n",
    "\n",
    "d) Skriv math.ceil(9.8), vad får du för svar och varför? \n",
    "- Output för \"math.ceil(9.8\") ger 10."
   ]
  },
  {
   "cell_type": "code",
   "execution_count": 123,
   "metadata": {},
   "outputs": [
    {
     "name": "stdout",
     "output_type": "stream",
     "text": [
      "Help on built-in function ceil in module math:\n",
      "\n",
      "ceil(x, /)\n",
      "    Return the ceiling of x as an Integral.\n",
      "\n",
      "    This is the smallest integer >= x.\n",
      "\n"
     ]
    }
   ],
   "source": [
    "import math\n",
    "\n",
    "help(math.ceil)\n"
   ]
  },
  {
   "cell_type": "code",
   "execution_count": 124,
   "metadata": {},
   "outputs": [
    {
     "name": "stdout",
     "output_type": "stream",
     "text": [
      "Output: 11, 10, 7, 5, -2, 3\n"
     ]
    }
   ],
   "source": [
    "import math\n",
    "\n",
    "# Samla resultaten i en lista\n",
    "results = [\n",
    "    math.ceil(10.2),\n",
    "    math.ceil(9.8),\n",
    "    math.ceil(2.5**2),\n",
    "    math.ceil(5.0),\n",
    "    math.ceil(-2.7),\n",
    "    math.ceil(2.5),\n",
    "]\n",
    "\n",
    "# Formatera resultaten som en sträng\n",
    "output = \"Output: \" + \", \".join(map(str, results))\n",
    "print(output) \n"
   ]
  },
  {
   "cell_type": "markdown",
   "metadata": {},
   "source": [
    "### Uppgift 10.3\n"
   ]
  },
  {
   "cell_type": "markdown",
   "metadata": {},
   "source": [
    "Bygg en egen modul som till exempel innehåller två funktioner, importera därefter denna modulen i ett annat skript och prova använd de två funktionerna. Notera att modulen du bygger skall skrivas i ett \"vanligt skript\" (en .py fil) och inte i en jupyter notebook fil (.ipynb).<br> Du kan däremot importera modulen (.py filen) i en jupyter notebook (.ipynb fil).\n",
    "  \n",
    "   Om du önskar importera en jupyter notebook (.ipynb fil) till en annan jupyter notebook (.ipynb fil) så kan du kolla igenom följande smidiga paket: https://pypi.org/project/import-ipynb/ ."
   ]
  },
  {
   "cell_type": "code",
   "execution_count": 125,
   "metadata": {},
   "outputs": [
    {
     "name": "stdout",
     "output_type": "stream",
     "text": [
      "Sum: 30\n",
      "Product: 4\n",
      "Converted Amount: 125.0\n"
     ]
    }
   ],
   "source": [
    "import swe_module\n",
    "\n",
    "numbers = [1, 2, 3, 4, 5]\n",
    "\n",
    "sum_result = swe_module.add_numbers(15, 15)\n",
    "product_result = swe_module.multiply_numbers(2, 2)\n",
    "converted_amount = swe_module.convert_currency(100, 1.25 )\n",
    "\n",
    "print(\"Sum:\", sum_result)\n",
    "print(\"Product:\", product_result)\n",
    "print(\"Converted Amount:\", converted_amount)\n",
    "\n"
   ]
  },
  {
   "cell_type": "markdown",
   "metadata": {},
   "source": [
    "## **Kapitel 11 - Loggning**\n"
   ]
  },
  {
   "cell_type": "markdown",
   "metadata": {},
   "source": [
    "### Uppgift 11.1\n"
   ]
  },
  {
   "cell_type": "markdown",
   "metadata": {},
   "source": [
    "Varför kan loggfiler med information vara viktiga för exempelvis företag och organisationer? <br>\n",
    "- Loggfiler är kritiska för företag och organisationer eftersom de hjälper till att förstå, övervaka och felsöka system och processer. Genom att analysera loggfiler kan företag identifiera och lösa problem, övervaka säkerhetsincidenter, säkerställa regel- och standardföljsamhet, optimera systemprestanda och få insikt i användarbeteende vilket förebygger dataförlust och möjliggör kontinuerlig förbättring av tjänsterna."
   ]
  },
  {
   "cell_type": "markdown",
   "metadata": {},
   "source": [
    "### Uppgift 11.2\n"
   ]
  },
  {
   "cell_type": "markdown",
   "metadata": {},
   "source": [
    "Vad menas med att det finns olika nivåer för logg-meddelanden? \n",
    "- I logging-modulen finns fem standardnivåer som anger meddelandets prioritet och informationsgrad: 10 (DEBUG), 20 (INFO), 30 (WARNING), 40 (ERROR), och 50 (CRITICAL). <br> Dessa nivåer gör loggningssystemet flexibelt och framtidssäkert eftersom nivåerna är jämnt fördelade på tiotal kan nya nivåer, som exempelvis nivå 15, läggas till utan att störa loggprioriteringens ordning."
   ]
  },
  {
   "cell_type": "markdown",
   "metadata": {},
   "source": [
    "### Uppgift 11.3\n"
   ]
  },
  {
   "cell_type": "markdown",
   "metadata": {},
   "source": [
    "Skapa ett valfritt program där du också använder dig av logging modulen. "
   ]
  },
  {
   "cell_type": "code",
   "execution_count": 126,
   "metadata": {},
   "outputs": [
    {
     "name": "stderr",
     "output_type": "stream",
     "text": [
      "\u001b[   m2024-11-13 11:20:55,208 - INFO - Product 'Bicycle Red' has been added with an initial stock of 6 units.\u001b[0m\n",
      "\u001b[   m2024-11-13 11:20:55,209 - INFO - Product 'Bicycle Yellow' has been added with an initial stock of -5 units.\u001b[0m\n",
      "\u001b[   m2024-11-13 11:20:55,210 - INFO - 5 units of 'Bicycle Red' sold. Remaining stock: 1\u001b[0m\n",
      "\u001b[93m2024-11-13 11:20:55,210 - WARNING - Low stock for 'Bicycle Red'. Only 1 units remaining.\u001b[0m\n",
      "\u001b[91m2024-11-13 11:20:55,211 - ERROR - Attempted to sell 2 units of 'Bicycle Red', but only 1 are in stock.\u001b[0m\n",
      "\u001b[92m2024-11-13 11:20:55,212 - INVALID ITEM - Invalid item: 'Bicycle Yellow' has an invalid stock level: -5\u001b[0m\n",
      "\u001b[91m2024-11-13 11:20:55,213 - ERROR - The product 'Bicycle Yellow' has invalid stock data and cannot be sold.\u001b[0m\n",
      "\u001b[   m2024-11-13 11:20:55,214 - INFO - 3 units of 'Bicycle Red' added to stock. Current stock: 4\u001b[0m\n",
      "\u001b[   m2024-11-13 11:20:55,215 - INFO - Current stock of 'Bicycle Red': 4 units.\u001b[0m\n",
      "\u001b[   m2024-11-13 11:20:55,215 - INFO - 6 units of 'Bicycle Yellow' added to stock. Current stock: 1\u001b[0m\n",
      "\u001b[   m2024-11-13 11:20:55,215 - INFO - Current stock of 'Bicycle Yellow': 1 units.\u001b[0m\n"
     ]
    },
    {
     "name": "stdout",
     "output_type": "stream",
     "text": [
      "\n",
      "Current stock of 'Bicycle Red': 4 units.\n",
      "Current stock of 'Bicycle Yellow': 1 units.\n"
     ]
    }
   ],
   "source": [
    "\n",
    "import logging\n",
    "\n",
    "# Define a custom logging level for \"INVALID ITEM\"\n",
    "INVALID_ITEM_LEVEL = 15\n",
    "logging.addLevelName(INVALID_ITEM_LEVEL, \"INVALID ITEM\")\n",
    "\n",
    "# Create a method to use the custom logging level\n",
    "def log_invalid_item(self, message, *args, **kwargs):\n",
    "    \"\"\"Log messages at the invalid item level.\"\"\"\n",
    "    if self.isEnabledFor(INVALID_ITEM_LEVEL):\n",
    "        self._log(INVALID_ITEM_LEVEL, message, args, **kwargs)\n",
    "\n",
    "# Add the method to logging.Logger so it can be used\n",
    "logging.Logger.invalid_item = log_invalid_item\n",
    "\n",
    "# Configure logging\n",
    "logging.basicConfig(\n",
    "    level=logging.DEBUG,\n",
    "    format=\"%(asctime)s - %(levelname)s - %(message)s\",\n",
    ")\n",
    "\n",
    "\n",
    "# ANSI escape codes for colors\n",
    "class ColoredFormatter(logging.Formatter):\n",
    "    \"\"\"Custom formatter to add colors to log output.\"\"\"\n",
    "\n",
    "    # Define color codes\n",
    "    COLOR_CODES = {\n",
    "        \"WARNING\": \"\\033[93m\",  # Yellow\n",
    "        \"ERROR\": \"\\033[91m\",  # Red\n",
    "        \"CRITICAL\": \"\\033[91m\",  # Red\n",
    "        \"INVALID ITEM\": \"\\033[92m\",  # Magenta\n",
    "        \"DEBUG\": \"\\033[  m\",  # Green\n",
    "        \"INFO\": \"\\033[   m\",  # \n",
    "        \"RESET\": \"\\033[0m\",  # Reset to default\n",
    "    }\n",
    "\n",
    "    def format(self, record):\n",
    "        log_color = self.COLOR_CODES.get(\n",
    "            record.levelname, self.COLOR_CODES[\"RESET\"]\n",
    "        )\n",
    "        log_message = super().format(record)\n",
    "        return f\"{log_color}{log_message}{self.COLOR_CODES['RESET']}\"\n",
    "\n",
    "# Configure logging with the custom formatter\n",
    "logging.basicConfig(\n",
    "    level=logging.DEBUG,\n",
    "    format=\"%(asctime)s - %(levelname)s - %(message)s\",\n",
    "    handlers=[logging.StreamHandler()],\n",
    ")\n",
    "\n",
    "# Add the colored formatter to the handler\n",
    "handler = logging.StreamHandler()\n",
    "handler.setFormatter(\n",
    "    ColoredFormatter(\"%(asctime)s - %(levelname)s - %(message)s\")\n",
    ")\n",
    "logging.getLogger().handlers = [handler]\n",
    "\n",
    "\n",
    "class Product:\n",
    "    \"\"\"Represents a product with inventory management.\"\"\"\n",
    "\n",
    "    def __init__(self, name, stock):\n",
    "        \"\"\"Initializes the product's name and stock.\"\"\"\n",
    "        self.name = name\n",
    "        self.stock = stock\n",
    "        logging.info(\n",
    "            f\"Product '{self.name}' has been added with an initial stock of {self.stock} units.\"\n",
    "        )\n",
    "\n",
    "    def sell(self, quantity):\n",
    "        \"\"\"Attempts to sell a certain quantity of the product.\"\"\"\n",
    "        # Check if the product has valid attributes\n",
    "        if not isinstance(self.stock, int) or self.stock < 0:\n",
    "            logging.getLogger().invalid_item(\n",
    "                f\"Invalid item: '{self.name}' has an invalid stock level: {self.stock}\"\n",
    "            )\n",
    "            logging.error(\n",
    "                f\"The product '{self.name}' has invalid stock data and cannot be sold.\"\n",
    "            )\n",
    "            return False\n",
    "\n",
    "        if quantity > self.stock:\n",
    "            logging.error(\n",
    "                f\"Attempted to sell {quantity} units of '{self.name}', but only \"\n",
    "                f\"{self.stock} are in stock.\"\n",
    "            )\n",
    "            return False\n",
    "        else:\n",
    "            self.stock -= quantity\n",
    "            logging.info(\n",
    "                f\"{quantity} units of '{self.name}' sold. Remaining stock: {self.stock}\"\n",
    "            )\n",
    "\n",
    "            if self.stock == 0:\n",
    "                logging.critical(\n",
    "                    f\"Stock of '{self.name}' is out! Order more immediately.\"\n",
    "                )\n",
    "            elif self.stock < 5:\n",
    "                logging.warning(\n",
    "                    f\"Low stock for '{self.name}'. Only {self.stock} units remaining.\"\n",
    "                )\n",
    "\n",
    "            return True\n",
    "\n",
    "\n",
    "    def add_stock(self, quantity):\n",
    "        \"\"\"Adds stock to the product.\"\"\"\n",
    "        if quantity <= 0:\n",
    "            logging.error(\n",
    "                f\"Cannot add a non-positive quantity ({quantity}) to stock.\"\n",
    "            )\n",
    "            return False\n",
    "        self.stock += quantity\n",
    "        logging.info(\n",
    "            f\"{quantity} units of '{self.name}' added to stock. Current stock: {self.stock}\"\n",
    "        )\n",
    "        return True\n",
    "\n",
    "\n",
    "    def current_stock(self):\n",
    "        \"\"\"Displays the current stock level of the product.\"\"\"\n",
    "        logging.info(\n",
    "            f\"Current stock of '{self.name}': {self.stock} units.\"\n",
    "        )\n",
    "        return f\"Current stock of '{self.name}': {self.stock} units.\"\n",
    "\n",
    "\n",
    "# Example usage\n",
    "product1 = Product(\n",
    "    \"Bicycle Red\", 6\n",
    ")  # Create a product with 6 units in stock\n",
    "product2 = Product(\n",
    "    \"Bicycle Yellow\", -5\n",
    ")  # Create a product with an invalid stock level\n",
    "\n",
    "product1.sell(5)  # Sell 5 units of the valid product\n",
    "product1.sell(2)  # Attempt to sell more units than available\n",
    "product2.sell(1)  # Attempt to sell the invalid product\n",
    "\n",
    "print()\n",
    "\n",
    "product1.add_stock(3)  # Add 3 units to the valid product stock\n",
    "print(\n",
    "    product1.current_stock()\n",
    ")  # Display the current stock of the product\n",
    "\n",
    "product2.add_stock(6)  # Add 6 units to the valid product stock\n",
    "print(\n",
    "    product2.current_stock()\n",
    ")  # Display the current stock of the product\n",
    "\n",
    "\n"
   ]
  }
 ],
 "metadata": {
  "kernelspec": {
   "display_name": "Python 3",
   "language": "python",
   "name": "python3"
  },
  "language_info": {
   "codemirror_mode": {
    "name": "ipython",
    "version": 3
   },
   "file_extension": ".py",
   "mimetype": "text/x-python",
   "name": "python",
   "nbconvert_exporter": "python",
   "pygments_lexer": "ipython3",
   "version": "3.12.3"
  }
 },
 "nbformat": 4,
 "nbformat_minor": 2
}
